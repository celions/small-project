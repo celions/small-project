{
 "cells": [
  {
   "cell_type": "markdown",
   "metadata": {},
   "source": [
    "**Scenario 1**: Interaction among people is always the same"
   ]
  },
  {
   "cell_type": "code",
   "execution_count": 1,
   "metadata": {},
   "outputs": [],
   "source": [
    "import pandas as pd\n",
    "import matplotlib.pyplot as plt\n",
    "import numpy as np\n",
    "import sympy\n",
    "from scipy.integrate import odeint\n",
    "import math as m\n",
    "from scipy.optimize import curve_fit"
   ]
  },
  {
   "cell_type": "markdown",
   "metadata": {},
   "source": [
    "Data"
   ]
  },
  {
   "cell_type": "code",
   "execution_count": 2,
   "metadata": {},
   "outputs": [],
   "source": [
    "#We choose to convert the .csv file to .xls format and use pandas to parse it:\n",
    "data = pd.ExcelFile(\"COVID19_Data_Spain.xls\")\n",
    "sheetX = data.parse(0) \n",
    "date = sheetX['Date']\n",
    "infected = sheetX['Infected']\n",
    "deaths = sheetX['Deaths']\n",
    "recovered = sheetX['Recovered']\n",
    "dt = np.linspace(1,len(infected),len(infected))\n",
    "a = (1/2.3)\n",
    "ro = (1/5.2)"
   ]
  },
  {
   "cell_type": "code",
   "execution_count": 3,
   "metadata": {},
   "outputs": [
    {
     "data": {
      "image/png": "[encoded data removed]",
      "text/plain": [
       "<Figure size 432x288 with 1 Axes>"
      ]
     },
     "metadata": {},
     "output_type": "display_data"
    }
   ],
   "source": [
    "#Plotting real data:\n",
    "plt.figure(1)\n",
    "plt.plot(date,infected,label='infected')\n",
    "plt.plot(date,recovered,label='recovered')\n",
    "plt.title('COVID−19 in Spain')\n",
    "plt.ylabel('People')\n",
    "plt.legend(loc = 'best')\n",
    "plt.show()"
   ]
  },
  {
   "cell_type": "code",
   "execution_count": 4,
   "metadata": {},
   "outputs": [],
   "source": [
    "def SIR(I_cond,dt,r,a):\n",
    "    S0,I0,R0 = I_cond\n",
    "    dsdt = -r*S0*I0\n",
    "    didt = r*S0*I0 - a*I0\n",
    "    drdt = a*I0\n",
    "    return dsdt,didt,drdt\n",
    "\n",
    "def SEIR(I_cond,dt,r,a,ro):\n",
    "    S0,I0,R0,E0 = I_cond\n",
    "    dsdt = -r*S0*I0\n",
    "    dedt = r*S0*I0 - ro*E0\n",
    "    didt = ro*E0 -a*I0\n",
    "    drdt = a*I0\n",
    "    return dsdt,dedt,didt,drdt"
   ]
  },
  {
   "cell_type": "markdown",
   "metadata": {},
   "source": [
    "**Scenario Nº 1**"
   ]
  },
  {
   "cell_type": "markdown",
   "metadata": {},
   "source": [
    "SIR MODEL"
   ]
  },
  {
   "cell_type": "code",
   "execution_count": 5,
   "metadata": {},
   "outputs": [
    {
     "name": "stdout",
     "output_type": "stream",
     "text": [
      "Best fit: number of population 1418519.1122559998, value of r: 4.5e-07\n"
     ]
    }
   ],
   "source": [
    "#Caso SIR model sweep:\n",
    "Ns = np.linspace(10.3**6,10.6**6,50)\n",
    "Rs = np.linspace(0.545e-6,0.45e-6,50)\n",
    "\n",
    "mse = []\n",
    "for n in Ns:\n",
    "    mse_n = []\n",
    "    for r in Rs:\n",
    "        I_cond = np.array([n,infected[0],recovered[0]])\n",
    "        model_SIR = odeint(SIR,I_cond,dt,args = (r,a))\n",
    "        mse_r = np.sum((model_SIR[:,1]-infected)**2)/len(infected)\n",
    "        mse_n.append(mse_r)\n",
    "    for m in mse_n:\n",
    "        mse.append(m)\n",
    "        \n",
    "best_fit = min(mse)\n",
    "index = mse.index(best_fit)\n",
    "Ns_index = int(index/50)\n",
    "Rs_index = int(index/50)\n",
    "print('Best fit: number of population'+' '+str(Ns[Ns_index])+', '+'value of r:'+' '+str(Rs[Rs_index]))"
   ]
  },
  {
   "cell_type": "code",
   "execution_count": 6,
   "metadata": {},
   "outputs": [],
   "source": [
    "#Caso SIR model fitting\n",
    "def SIR2(I_cond,dt,r):\n",
    "    S0,I0,R0 = I_cond\n",
    "    dsdt = -r*S0*I0\n",
    "    didt = r*S0*I0 - (1/2.3)*I0\n",
    "    drdt = (1/2.3)*I0\n",
    "    return dsdt,didt,drdt\n",
    "\n",
    "def evolution_SIR(t,r,S0):\n",
    "    return odeint(SIR2,[S0,1,0],t,args = (r,))[:,1]"
   ]
  },
  {
   "cell_type": "code",
   "execution_count": 7,
   "metadata": {},
   "outputs": [
    {
     "name": "stdout",
     "output_type": "stream",
     "text": [
      "The value for r is equal to (SIR): 3.7798833392236435e-07\n",
      "The value for the initial susceptible population is (SIR): 1682182.7173673168\n"
     ]
    }
   ],
   "source": [
    "params_SIR,params_covariance_SIR = curve_fit(evolution_SIR,dt,infected,[0.45e-6,1.4e6]) #Pillo los del sweep\n",
    "r_value_SIR = params_SIR[0]\n",
    "S0_value_SIR = params_SIR[1]\n",
    "print('The value for r is equal to (SIR):',r_value_SIR)\n",
    "print('The value for the initial susceptible population is (SIR):',S0_value_SIR)"
   ]
  },
  {
   "cell_type": "code",
   "execution_count": 8,
   "metadata": {},
   "outputs": [
    {
     "name": "stdout",
     "output_type": "stream",
     "text": [
      "R_0<1:[65]\n",
      "No more people will get infected after 150 days of epidemic.\n"
     ]
    }
   ],
   "source": [
    "#R0<1 and the end of the epidemic:\n",
    "fit_SIR = evolution_SIR(dt,r_value_SIR,S0_value_SIR)\n",
    "maximum = max(fit_SIR)\n",
    "tmax = np.where(fit_SIR==maximum)\n",
    "print('R_0<1:'+str(tmax[0]))\n",
    "\n",
    "dt_extended = np.linspace(1,300,300)\n",
    "fit_SIR_extended = evolution_SIR(dt_extended,r_value_SIR,S0_value_SIR)\n",
    "\n",
    "fin_SIR = 0\n",
    "cont = 0\n",
    "for individual in fit_SIR_extended:\n",
    "    if individual < 1:\n",
    "        fin_SIR = cont + 2 #0-indexing\n",
    "        break \n",
    "    else: \n",
    "        cont = cont+1\n",
    "print('No more people will get infected after '+str(fin_SIR)+' days of epidemic.')"
   ]
  },
  {
   "cell_type": "code",
   "execution_count": 9,
   "metadata": {
    "scrolled": true
   },
   "outputs": [
    {
     "data": {
      "image/png": "[encoded data removed]",
      "text/plain": [
       "<Figure size 432x288 with 1 Axes>"
      ]
     },
     "metadata": {},
     "output_type": "display_data"
    }
   ],
   "source": [
    "#Representación del resutlado:\n",
    "plt.figure(1)\n",
    "plt.plot(dt_extended,fit_SIR_extended,label='Model data')\n",
    "plt.plot(dt,infected,label='Spain data')\n",
    "plt.axvline(66,color='blue',linestyle= 'dashed',label='R_0<1')\n",
    "\n",
    "plt.xlabel('Time [Days]')\n",
    "plt.ylabel('Infected individuals')\n",
    "plt.title('SIR extended model')\n",
    "plt.legend(loc='best')\n",
    "plt.show()"
   ]
  },
  {
   "cell_type": "markdown",
   "metadata": {},
   "source": [
    "SEIR MODEL"
   ]
  },
  {
   "cell_type": "code",
   "execution_count": 42,
   "metadata": {},
   "outputs": [],
   "source": [
    "#Caso SEIR model fitting\n",
    "def SEIR2(I_cond,dt,r):\n",
    "    S0,I0,R0,E0 = I_cond\n",
    "    dsdt = -r*S0*I0\n",
    "    dedt = r*S0*I0 -(1/5.2)*E0\n",
    "    didt = (1/5.2)*E0 -(1/2.3)*I0\n",
    "    drdt = (1/2.3)*I0\n",
    "    return dsdt,dedt,didt,drdt\n",
    "\n",
    "def evolution_SEIR(t,r,S0):\n",
    "    return odeint(SEIR2,[S0,1,0,1],t,args = (r,))[:,2]"
   ]
  },
  {
   "cell_type": "code",
   "execution_count": 44,
   "metadata": {},
   "outputs": [
    {
     "name": "stderr",
     "output_type": "stream",
     "text": [
      "C:\\Users\\Celia\\Anaconda3\\lib\\site-packages\\scipy\\integrate\\odepack.py:236: ODEintWarning: Excess work done on this call (perhaps wrong Dfun type). Run with full_output = 1 to get quantitative information.\n",
      "  warnings.warn(warning_msg, ODEintWarning)\n",
      "C:\\Users\\Celia\\Anaconda3\\lib\\site-packages\\scipy\\integrate\\odepack.py:236: ODEintWarning: Excess accuracy requested (tolerances too small). Run with full_output = 1 to get quantitative information.\n",
      "  warnings.warn(warning_msg, ODEintWarning)\n"
     ]
    },
    {
     "ename": "RuntimeError",
     "evalue": "Optimal parameters not found: Number of calls to function has reached maxfev = 600.",
     "output_type": "error",
     "traceback": [
      "\u001b[1;31m---------------------------------------------------------------------------\u001b[0m",
      "\u001b[1;31mRuntimeError\u001b[0m                              Traceback (most recent call last)",
      "\u001b[1;32m<ipython-input-44-98a8b5f0b35e>\u001b[0m in \u001b[0;36m<module>\u001b[1;34m()\u001b[0m\n\u001b[1;32m----> 1\u001b[1;33m \u001b[0mparams_SEIR\u001b[0m\u001b[1;33m,\u001b[0m\u001b[0mparams_covariance_SEIR\u001b[0m \u001b[1;33m=\u001b[0m \u001b[0mcurve_fit\u001b[0m\u001b[1;33m(\u001b[0m\u001b[0mevolution_SEIR\u001b[0m\u001b[1;33m,\u001b[0m\u001b[0mdt\u001b[0m\u001b[1;33m,\u001b[0m\u001b[0minfected\u001b[0m\u001b[1;33m,\u001b[0m\u001b[1;33m[\u001b[0m\u001b[1;36m3.1e-6\u001b[0m\u001b[1;33m,\u001b[0m\u001b[1;36m433410\u001b[0m\u001b[1;33m]\u001b[0m\u001b[1;33m)\u001b[0m \u001b[1;31m#Pillo los del sweep\u001b[0m\u001b[1;33m\u001b[0m\u001b[0m\n\u001b[0m\u001b[0;32m      2\u001b[0m \u001b[0mr_value_SEIR\u001b[0m \u001b[1;33m=\u001b[0m \u001b[0mparams_SEIR\u001b[0m\u001b[1;33m[\u001b[0m\u001b[1;36m0\u001b[0m\u001b[1;33m]\u001b[0m\u001b[1;33m\u001b[0m\u001b[0m\n\u001b[0;32m      3\u001b[0m \u001b[0mS0_value_SEIR\u001b[0m \u001b[1;33m=\u001b[0m \u001b[0mparams_SEIR\u001b[0m\u001b[1;33m[\u001b[0m\u001b[1;36m1\u001b[0m\u001b[1;33m]\u001b[0m\u001b[1;33m\u001b[0m\u001b[0m\n\u001b[0;32m      4\u001b[0m \u001b[0mprint\u001b[0m\u001b[1;33m(\u001b[0m\u001b[1;34m'The value for r is equal to (SEIR):'\u001b[0m\u001b[1;33m,\u001b[0m\u001b[0mr_value_SEIR\u001b[0m\u001b[1;33m)\u001b[0m\u001b[1;33m\u001b[0m\u001b[0m\n\u001b[0;32m      5\u001b[0m \u001b[0mprint\u001b[0m\u001b[1;33m(\u001b[0m\u001b[1;34m'The value for the initial susceptible population is (SEIR):'\u001b[0m\u001b[1;33m,\u001b[0m\u001b[0mS0_value_SEIR\u001b[0m\u001b[1;33m)\u001b[0m\u001b[1;33m\u001b[0m\u001b[0m\n",
      "\u001b[1;32m~\\Anaconda3\\lib\\site-packages\\scipy\\optimize\\minpack.py\u001b[0m in \u001b[0;36mcurve_fit\u001b[1;34m(f, xdata, ydata, p0, sigma, absolute_sigma, check_finite, bounds, method, jac, **kwargs)\u001b[0m\n\u001b[0;32m    753\u001b[0m         \u001b[0mcost\u001b[0m \u001b[1;33m=\u001b[0m \u001b[0mnp\u001b[0m\u001b[1;33m.\u001b[0m\u001b[0msum\u001b[0m\u001b[1;33m(\u001b[0m\u001b[0minfodict\u001b[0m\u001b[1;33m[\u001b[0m\u001b[1;34m'fvec'\u001b[0m\u001b[1;33m]\u001b[0m \u001b[1;33m**\u001b[0m \u001b[1;36m2\u001b[0m\u001b[1;33m)\u001b[0m\u001b[1;33m\u001b[0m\u001b[0m\n\u001b[0;32m    754\u001b[0m         \u001b[1;32mif\u001b[0m \u001b[0mier\u001b[0m \u001b[1;32mnot\u001b[0m \u001b[1;32min\u001b[0m \u001b[1;33m[\u001b[0m\u001b[1;36m1\u001b[0m\u001b[1;33m,\u001b[0m \u001b[1;36m2\u001b[0m\u001b[1;33m,\u001b[0m \u001b[1;36m3\u001b[0m\u001b[1;33m,\u001b[0m \u001b[1;36m4\u001b[0m\u001b[1;33m]\u001b[0m\u001b[1;33m:\u001b[0m\u001b[1;33m\u001b[0m\u001b[0m\n\u001b[1;32m--> 755\u001b[1;33m             \u001b[1;32mraise\u001b[0m \u001b[0mRuntimeError\u001b[0m\u001b[1;33m(\u001b[0m\u001b[1;34m\"Optimal parameters not found: \"\u001b[0m \u001b[1;33m+\u001b[0m \u001b[0merrmsg\u001b[0m\u001b[1;33m)\u001b[0m\u001b[1;33m\u001b[0m\u001b[0m\n\u001b[0m\u001b[0;32m    756\u001b[0m     \u001b[1;32melse\u001b[0m\u001b[1;33m:\u001b[0m\u001b[1;33m\u001b[0m\u001b[0m\n\u001b[0;32m    757\u001b[0m         \u001b[1;31m# Rename maxfev (leastsq) to max_nfev (least_squares), if specified.\u001b[0m\u001b[1;33m\u001b[0m\u001b[1;33m\u001b[0m\u001b[0m\n",
      "\u001b[1;31mRuntimeError\u001b[0m: Optimal parameters not found: Number of calls to function has reached maxfev = 600."
     ]
    }
   ],
   "source": [
    "params_SEIR,params_covariance_SEIR = curve_fit(evolution_SEIR,dt,infected,[3.1e-6,433410]) #Pillo los del sweep\n",
    "r_value_SEIR = params_SEIR[0]\n",
    "S0_value_SEIR = params_SEIR[1]\n",
    "print('The value for r is equal to (SEIR):',r_value_SEIR)\n",
    "print('The value for the initial susceptible population is (SEIR):',S0_value_SEIR)"
   ]
  },
  {
   "cell_type": "code",
   "execution_count": 43,
   "metadata": {},
   "outputs": [
    {
     "name": "stdout",
     "output_type": "stream",
     "text": [
      "R_0<1:[66]\n",
      "[ 0.00000000e+000 -5.78962151e-001 -2.88743924e+000 -1.14200169e+001\n",
      " -4.23082077e+001 -1.53399075e+002 -5.51513364e+002 -1.96830466e+003\n",
      " -6.89707946e+003 -2.28191206e+004 -6.47804722e+004 -1.39478731e+005\n",
      " -2.21029643e+005 -2.73635252e+005 -2.77101379e+005 -2.25148343e+005\n",
      " -1.19857788e+005  3.11845784e+004  2.16843811e+005  4.25548306e+005\n",
      "  6.56543038e+005  1.20330820e+006  4.85661783e+006  9.02133865e+217\n",
      "  1.53452700e+262  3.62530241e+233  1.31585360e-047  9.36407142e-076\n",
      "  7.61231190e+130  1.28036948e-152  7.60446783e+130  7.60446783e+130\n",
      "  7.13325098e-067  4.67485107e-062  1.27734658e-152  2.45652619e+198\n",
      "  6.71082774e-076  6.61020264e-062  9.49373056e+213  1.24889332e+137\n",
      "  1.33406306e+185  3.53367570e+246  7.27458298e+199  2.04738726e+190\n",
      "  6.01347002e-154  9.02133613e+217  6.13683785e-071  1.05901196e+218\n",
      "  7.58739606e+130  6.13683785e-071  1.00385544e+218  9.36403570e-076\n",
      "  6.13657267e-071  1.07511627e-177  1.43564534e-023  9.36373005e-076\n",
      "  4.67485107e-062  3.39670193e-009  1.55743982e+243  6.13683785e-071\n",
      "  4.90922779e+252  9.36372478e-076  1.43564534e-023  7.54491932e+130\n",
      "  7.54948847e+130  9.51328476e-043  7.36496487e+271  8.88055928e+252\n",
      "  1.43564534e-023  1.16143627e+089  4.90922779e+252  2.35567488e+251\n",
      "  2.17237648e-153]\n",
      "No more people will get infected after 150 days of epidemic.\n"
     ]
    },
    {
     "name": "stderr",
     "output_type": "stream",
     "text": [
      "C:\\Users\\Celia\\Anaconda3\\lib\\site-packages\\scipy\\integrate\\odepack.py:236: ODEintWarning: Excess work done on this call (perhaps wrong Dfun type). Run with full_output = 1 to get quantitative information.\n",
      "  warnings.warn(warning_msg, ODEintWarning)\n"
     ]
    }
   ],
   "source": [
    "#R0<1 and the end of the epidemic:\n",
    "fit_SEIR = evolution_SEIR(dt,r_value_SEIR,S0_value_SEIR)\n",
    "maximumE = max(fit_SEIR)\n",
    "tmaxE = np.where(fit_SEIR==maximumE)\n",
    "print('R_0<1:'+str(tmaxE[0]))\n",
    "print(fit_SEIR)\n",
    "\n",
    "\n",
    "fit_SEIR_extended = evolution_SEIR(dt_extended,r_value_SEIR,S0_value_SEIR)\n",
    "fin_SEIR = 0\n",
    "contE = 0\n",
    "for individual in fit_SEIR_extended:\n",
    "    if individual < 1:\n",
    "        fin_SEIR = contE + 2 #0-indexing\n",
    "        break \n",
    "    else: \n",
    "        contE = contE+1\n",
    "print('No more people will get infected after '+str(fin_SIR)+' days of epidemic.')"
   ]
  },
  {
   "cell_type": "code",
   "execution_count": 54,
   "metadata": {},
   "outputs": [
    {
     "data": {
      "image/png": "[encoded data removed]",
      "text/plain": [
       "<Figure size 432x288 with 1 Axes>"
      ]
     },
     "metadata": {},
     "output_type": "display_data"
    }
   ],
   "source": [
    "#Representación del resutlado:\n",
    "plt.figure(1)\n",
    "plt.plot(dt_extended,fit_SEIR_extended,label='Model data')\n",
    "plt.plot(dt,infected,label='Spain data')\n",
    "plt.axvline(41,color='blue',linestyle= 'dashed',label='R_0<1')\n",
    "plt.ylim(-20000,90000)\n",
    "plt.xlabel('Time [Days]')\n",
    "plt.ylabel('Infected individuals')\n",
    "plt.title('SEIR extended model')\n",
    "plt.legend(loc='best')\n",
    "plt.show()"
   ]
  }
 ],
 "metadata": {
  "kernelspec": {
   "display_name": "Python 3",
   "language": "python",
   "name": "python3"
  },
  "language_info": {
   "codemirror_mode": {
    "name": "ipython",
    "version": 3
   },
   "file_extension": ".py",
   "mimetype": "text/x-python",
   "name": "python",
   "nbconvert_exporter": "python",
   "pygments_lexer": "ipython3",
   "version": "3.6.5"
  }
 },
 "nbformat": 4,
 "nbformat_minor": 2
}
